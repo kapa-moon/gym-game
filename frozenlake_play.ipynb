{
 "cells": [
  {
   "cell_type": "markdown",
   "metadata": {},
   "source": [
    "## Homework 6 Reinforcement Learning"
   ]
  },
  {
   "cell_type": "code",
   "execution_count": 11,
   "metadata": {},
   "outputs": [],
   "source": [
    "import numpy as np\n",
    "import gym\n",
    "import random\n",
    "import time\n",
    "from IPython.display import clear_output"
   ]
  },
  {
   "cell_type": "markdown",
   "metadata": {},
   "source": [
    "#### GAME:\n",
    "#### FrozenLake from OPEN AI Gym"
   ]
  },
  {
   "cell_type": "code",
   "execution_count": 12,
   "metadata": {},
   "outputs": [
    {
     "data": {
      "text/plain": [
       "0"
      ]
     },
     "execution_count": 12,
     "metadata": {},
     "output_type": "execute_result"
    }
   ],
   "source": [
    "ENV = gym.make(\"FrozenLake-v1\")\n",
    "ENV.reset()"
   ]
  },
  {
   "cell_type": "code",
   "execution_count": 13,
   "metadata": {},
   "outputs": [],
   "source": [
    "action_size = ENV.action_space.n\n",
    "state_size = ENV.observation_space.n\n",
    "\n",
    "\n",
    "# done = False\n",
    "\n",
    "# time.sleep(1)\n",
    "# while not done:\n",
    "#     action = random.randint(0,action_size-1)\n",
    "#     new_state, reward, done, _ = ENV.step(action)    \n",
    "#     ENV.render()\n",
    "\n",
    "# ENV.close()"
   ]
  },
  {
   "cell_type": "markdown",
   "metadata": {},
   "source": [
    "#### Q Learning"
   ]
  },
  {
   "cell_type": "code",
   "execution_count": 14,
   "metadata": {},
   "outputs": [
    {
     "data": {
      "text/plain": [
       "(16, 4)"
      ]
     },
     "execution_count": 14,
     "metadata": {},
     "output_type": "execute_result"
    }
   ],
   "source": [
    "#Builed the Q table and initialize\n",
    "q_table = np.zeros((state_size, action_size))\n",
    "q_table.shape"
   ]
  },
  {
   "cell_type": "markdown",
   "metadata": {},
   "source": [
    "#### Exploit-explore tradeoff\n",
    "\n",
    "###### Exploration: Explore the environment to find out information about it (Always exploring? Miss utilizing the already-known information)\n",
    "###### Exploitation: Explore the information that is already known --> maximize the return (Always exploiting? Miss finding the optimal solution within less episodes)\n",
    "##### --> Epsilon Greedy Strategy\n",
    "\n",
    "###### Optimal Policy, Optimal state-value function (max achievable value of each state under any policies), and Optimal action-value function (maximum achievable value by each state-action pair)\n",
    "\n",
    "###### Initialize codes by materials from lab 12 and deeplizard lecture\n",
    "\n",
    "#### Bellman optimality equation"
   ]
  },
  {
   "cell_type": "code",
   "execution_count": 15,
   "metadata": {},
   "outputs": [],
   "source": [
    "episodes = 10000\n",
    "max_steps = 100     #episode will terminate if the agent cannot get to the End or fall into a Hole, preventing infinite interations\n",
    "\n",
    "learning_rate = 0.1 #ALPHA  --> determine how much of the previously computed q value should be kept\n",
    "# learning_rate = 0.2\n",
    "# learning_rate = 0.01\n",
    "discount_rate = 0.99 #GAMMA\n",
    "\n",
    "exploration_rate = 1\n",
    "# initialize the epsilon with 1, with 100% likelihood that the agent will start by exploring\n",
    "max_exploration_rate = 1\n",
    "min_exploration_rate = 0.01\n",
    "# exploration_decay_rate = 0.01\n",
    "# exploration_decay_rate = 0.0001\n",
    "exploration_decay_rate = 0.001"
   ]
  },
  {
   "cell_type": "code",
   "execution_count": 21,
   "metadata": {},
   "outputs": [],
   "source": [
    "total_rewards = [] # see how score changes every trial\n",
    "\n",
    "for episode in range(episodes):\n",
    "    state = ENV.reset()\n",
    "\n",
    "    end = False # current episode finish\n",
    "    current_rewards = 0\n",
    "\n",
    "    for step in range(max_steps):\n",
    "\n",
    "        # here deal with explore-exploit tradeoff\n",
    "        # exploration rate was initialized to 1 and here randomly generate a thrshold\n",
    "        exploration_rate_threshold = random.uniform(0,1)\n",
    "        if exploration_rate_threshold > exploration_rate:\n",
    "            action = np.argmax(q_table[state, :])\n",
    "        else:\n",
    "            action = ENV.action_space.sample()\n",
    "\n",
    "        new_state, reward, end, info = ENV.step(action) \n",
    "        # Formula from lab 12 to update the q value\n",
    "        q_table[state, action] = q_table[state, action] * (1-learning_rate) + learning_rate * (reward + discount_rate * np.max(q_table[new_state, :]))\n",
    "        current_rewards += reward\n",
    "        state = new_state\n",
    "        if end == True:\n",
    "            break\n",
    "\n",
    "## Need to find a more ideal exploration decay rate, try later\n",
    "    # exploration rate decreases proporitonal to its own value\n",
    "    exploration_rate = min_exploration_rate + (max_exploration_rate - min_exploration_rate) * np.exp(-exploration_decay_rate * episode)\n",
    "    total_rewards.append(current_rewards)\n",
    "\n",
    "rewards_all_episodes = np.split(np.array(total_rewards), episodes/1000)\n",
    "count = 1000\n",
    "print(\"Avg reward in every 1000 episodes\\n\")\n",
    "for reward in rewards_all_episodes:\n",
    "    print(count, \": \", str(sum(reward/1000)))\n",
    "    count = count +1000\n",
    "\n",
    "\n",
    "print(\"\\nQ TABLE\\n\")\n",
    "\n",
    "print(q_table)\n",
    "    \n",
    "\n",
    "\n"
   ]
  },
  {
   "cell_type": "code",
   "execution_count": 17,
   "metadata": {},
   "outputs": [],
   "source": [
    "# ENV.render()"
   ]
  },
  {
   "cell_type": "code",
   "execution_count": 18,
   "metadata": {},
   "outputs": [],
   "source": [
    "# env_name = \"CartPole-v1\"\n",
    "# env = gym.make(env_name)"
   ]
  },
  {
   "cell_type": "code",
   "execution_count": 19,
   "metadata": {},
   "outputs": [],
   "source": [
    "# env.reset()\n",
    "\n",
    "# for  _ in range(200):\n",
    "#     action = env.action_space.sample()\n",
    "#     env.step(action)\n",
    "#     env.render()"
   ]
  },
  {
   "cell_type": "code",
   "execution_count": 20,
   "metadata": {},
   "outputs": [
    {
     "name": "stdout",
     "output_type": "stream",
     "text": [
      "SAFE! WIN!! YAY!!!\n",
      "SAFE! WIN!! YAY!!!\n",
      "SAFE! WIN!! YAY!!!\n",
      "oh no TT help help!!\n",
      "oh no TT help help!!\n",
      "SAFE! WIN!! YAY!!!\n",
      "SAFE! WIN!! YAY!!!\n",
      "oh no TT help help!!\n",
      "SAFE! WIN!! YAY!!!\n",
      "SAFE! WIN!! YAY!!!\n"
     ]
    }
   ],
   "source": [
    "## This will display the agent playing the game, also similar to the code explained in lab 12\n",
    "## Number of episodes adjustable, here's three\n",
    "\n",
    "for episode in range(10):\n",
    "    state = ENV.reset()\n",
    "    end = False\n",
    "    time.sleep(1)\n",
    "\n",
    "    for step in range(max_steps):\n",
    "        \n",
    "        ENV.render()\n",
    "        time.sleep(0.3)\n",
    "\n",
    "        action = np.argmax( q_table[state, :])\n",
    "        new_state, reward, end, info = ENV.step(action)\n",
    "\n",
    "        if end:\n",
    "            # clear_output(wait = True)\n",
    "            ENV.render()\n",
    "            if reward == 1:\n",
    "                print(\"SAFE! WIN!! YAY!!!\")\n",
    "                time.sleep(3)\n",
    "            else:\n",
    "                print(\"oh no TT help help!!\")\n",
    "                time.sleep(3)\n",
    "           \n",
    "            break\n",
    "\n",
    "        state = new_state\n",
    "\n",
    "ENV.close()"
   ]
  }
 ],
 "metadata": {
  "interpreter": {
   "hash": "ea7afc4c113ed1960c1194675d352cbe89a24a07b6655cdfb6aa32de2abcd704"
  },
  "kernelspec": {
   "display_name": "Python 3.8.13 ('rein-gym')",
   "language": "python",
   "name": "python3"
  },
  "language_info": {
   "codemirror_mode": {
    "name": "ipython",
    "version": 3
   },
   "file_extension": ".py",
   "mimetype": "text/x-python",
   "name": "python",
   "nbconvert_exporter": "python",
   "pygments_lexer": "ipython3",
   "version": "3.8.13"
  },
  "orig_nbformat": 4
 },
 "nbformat": 4,
 "nbformat_minor": 2
}
